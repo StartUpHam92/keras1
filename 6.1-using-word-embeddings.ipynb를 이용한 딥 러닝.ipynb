{
  "nbformat": 4,
  "nbformat_minor": 0,
  "metadata": {
    "colab": {
      "name": "Untitled27.ipynb",
      "provenance": []
    },
    "kernelspec": {
      "name": "python3",
      "display_name": "Python 3"
    },
    "accelerator": "GPU"
  },
  "cells": [
    {
      "cell_type": "code",
      "metadata": {
        "id": "2d8iiTjb2zFQ",
        "colab_type": "code",
        "colab": {}
      },
      "source": [
        "from keras.layers import Embedding\n",
        "\n",
        "embedding_layer = Embedding(1000, 64)"
      ],
      "execution_count": 0,
      "outputs": []
    },
    {
      "cell_type": "code",
      "metadata": {
        "id": "aYvMOGUg7l8x",
        "colab_type": "code",
        "colab": {}
      },
      "source": [
        "from keras.datasets import imdb\n",
        "from keras import preprocessing\n",
        "\n",
        "max_features = 10000\n",
        "maxlen = 20\n",
        "\n",
        "(x_train, y_train),(x_test,y_test) = imdb.load_data(num_words=max_features)\n",
        "\n",
        "x_train = preprocessing.sequence.pad_sequences(x_train, maxlen=maxlen)\n",
        "x_test = preprocessing.sequence.pad_sequences(x_test, maxlen=maxlen)"
      ],
      "execution_count": 0,
      "outputs": []
    },
    {
      "cell_type": "code",
      "metadata": {
        "id": "wojW39nZ-RrA",
        "colab_type": "code",
        "colab": {
          "base_uri": "https://localhost:8080/",
          "height": 647
        },
        "outputId": "3bd72526-383a-401d-b946-1d1f1bf94c2c"
      },
      "source": [
        "from keras.models import Sequential\n",
        "from keras.layers import Flatten, Dense, Embedding\n",
        "\n",
        "model = Sequential()\n",
        "model.add(Embedding(10000, 8, input_length=maxlen))\n",
        "\n",
        "model.add(Flatten())\n",
        "model.add(Dense(1, activation='sigmoid'))\n",
        "model.compile(optimizer='rmsprop',loss='binary_crossentropy',metrics=['acc'])\n",
        "model.summary()\n",
        "\n",
        "history = model.fit(x_train, y_train, \n",
        "                    epochs=10, \n",
        "                    batch_size=32, \n",
        "                    validation_split=0.2)"
      ],
      "execution_count": 13,
      "outputs": [
        {
          "output_type": "stream",
          "text": [
            "Model: \"sequential_2\"\n",
            "_________________________________________________________________\n",
            "Layer (type)                 Output Shape              Param #   \n",
            "=================================================================\n",
            "embedding_4 (Embedding)      (None, 20, 8)             80000     \n",
            "_________________________________________________________________\n",
            "flatten_2 (Flatten)          (None, 160)               0         \n",
            "_________________________________________________________________\n",
            "dense_2 (Dense)              (None, 1)                 161       \n",
            "=================================================================\n",
            "Total params: 80,161\n",
            "Trainable params: 80,161\n",
            "Non-trainable params: 0\n",
            "_________________________________________________________________\n",
            "Train on 20000 samples, validate on 5000 samples\n",
            "Epoch 1/10\n",
            "20000/20000 [==============================] - 3s 158us/step - loss: 0.6700 - acc: 0.6196 - val_loss: 0.6201 - val_acc: 0.6960\n",
            "Epoch 2/10\n",
            "20000/20000 [==============================] - 3s 147us/step - loss: 0.5406 - acc: 0.7541 - val_loss: 0.5260 - val_acc: 0.7278\n",
            "Epoch 3/10\n",
            "20000/20000 [==============================] - 3s 148us/step - loss: 0.4601 - acc: 0.7908 - val_loss: 0.5010 - val_acc: 0.7448\n",
            "Epoch 4/10\n",
            "20000/20000 [==============================] - 3s 148us/step - loss: 0.4212 - acc: 0.8104 - val_loss: 0.4938 - val_acc: 0.7498\n",
            "Epoch 5/10\n",
            "20000/20000 [==============================] - 3s 140us/step - loss: 0.3949 - acc: 0.8235 - val_loss: 0.4934 - val_acc: 0.7566\n",
            "Epoch 6/10\n",
            "20000/20000 [==============================] - 3s 139us/step - loss: 0.3734 - acc: 0.8351 - val_loss: 0.4968 - val_acc: 0.7580\n",
            "Epoch 7/10\n",
            "20000/20000 [==============================] - 3s 137us/step - loss: 0.3539 - acc: 0.8479 - val_loss: 0.5012 - val_acc: 0.7578\n",
            "Epoch 8/10\n",
            "20000/20000 [==============================] - 3s 143us/step - loss: 0.3353 - acc: 0.8585 - val_loss: 0.5064 - val_acc: 0.7560\n",
            "Epoch 9/10\n",
            "20000/20000 [==============================] - 3s 141us/step - loss: 0.3165 - acc: 0.8689 - val_loss: 0.5128 - val_acc: 0.7550\n",
            "Epoch 10/10\n",
            "20000/20000 [==============================] - 3s 139us/step - loss: 0.2989 - acc: 0.8799 - val_loss: 0.5204 - val_acc: 0.7528\n"
          ],
          "name": "stdout"
        }
      ]
    }
  ]
}